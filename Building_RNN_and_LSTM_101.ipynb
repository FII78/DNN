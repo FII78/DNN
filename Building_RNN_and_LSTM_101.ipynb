{
  "cells": [
    {
      "cell_type": "markdown",
      "metadata": {
        "id": "view-in-github",
        "colab_type": "text"
      },
      "source": [
        "<a href=\"https://colab.research.google.com/github/FII78/DNN/blob/main/Building_RNN_and_LSTM_101.ipynb\" target=\"_parent\"><img src=\"https://colab.research.google.com/assets/colab-badge.svg\" alt=\"Open In Colab\"/></a>"
      ]
    },
    {
      "cell_type": "code",
      "execution_count": null,
      "metadata": {
        "id": "aacLt3J10P4w"
      },
      "outputs": [],
      "source": [
        "import numpy as np\n",
        "from rnn_utils import *"
      ]
    },
    {
      "cell_type": "code",
      "source": [
        "# Forward prop for basic RNN\n",
        "\n",
        "def rnn_cell_forward(xt, a_prev, parameters):\n",
        "    \"\"\"\n",
        "    Implements a single forward step of the RNN-cell\n",
        "    Arguments:\n",
        "    xt -- input data at timestep \"t\", numpy array of shape (n_x, m).\n",
        "    a_prev -- Hidden state at timestep \"t-1\", numpy array of shape (n_a, m)\n",
        "    parameters -- python dictionary containing:\n",
        "                        Wax -- Weight matrix multiplying the input, numpy array of shape (n_a, n_x)\n",
        "                        Waa -- Weight matrix multiplying the hidden state, numpy array of shape (n_a, n_a)\n",
        "                        Wya -- Weight matrix relating the hidden-state to the output, numpy array of shape (n_y, n_a)\n",
        "                        ba --  Bias, numpy array of shape (n_a, 1)\n",
        "                        by -- Bias relating the hidden-state to the output, numpy array of shape (n_y, 1)\n",
        "    Returns:\n",
        "    a_next -- next hidden state, of shape (n_a, m)\n",
        "    yt_pred -- prediction at timestep \"t\", numpy array of shape (n_y, m)\n",
        "    cache -- tuple of values needed for the backward pass, contains (a_next, a_prev, xt, parameters)\n",
        "    \"\"\"\n",
        "    # Retrieve parameters from \"parameters\"\n",
        "    Wax = parameters[\"Wax\"]\n",
        "    Waa = parameters[\"Waa\"]\n",
        "    Wya = parameters[\"Wya\"]\n",
        "    ba = parameters[\"ba\"]\n",
        "    by = parameters[\"by\"]\n",
        "\n",
        "    # calc the next activation funtion\n",
        "    a_next = np.tanh(np.dot(Wax, xt) + np.dot(Waa, a_prev) + ba)\n",
        "    # predict y\n",
        "    yt_pred = softmax(np.dot(Wya, a_next) + by)\n",
        "\n",
        "    # store values for backprop\n",
        "    cache = (a_next, a_prev, xt, parameters)\n",
        "    return a_next, yt_pred, cache\n",
        "\n"
      ],
      "metadata": {
        "id": "smLkbRyhDXRf"
      },
      "execution_count": null,
      "outputs": []
    },
    {
      "cell_type": "code",
      "source": [
        "np.random.seed(1)\n",
        "xt = np.random.randn(3,10)\n",
        "a_prev = np.random.randn(5,10)\n",
        "Waa = np.random.randn(5,5)\n",
        "Wax = np.random.randn(5,3)\n",
        "Wya = np.random.randn(2,5)\n",
        "ba = np.random.randn(5,1)\n",
        "by = np.random.randn(2,1)\n",
        "parameters = {\"Waa\": Waa, \"Wax\": Wax, \"Wya\": Wya, \"ba\": ba, \"by\": by}\n",
        "\n",
        "a_next, yt_pred, cache = rnn_cell_forward(xt, a_prev, parameters)\n",
        "print(\"a_next[4] = \", a_next[4])\n",
        "print(\"a_next.shape = \", a_next.shape)\n",
        "print(\"yt_pred[1] =\", yt_pred[1])\n",
        "print(\"yt_pred.shape = \", yt_pred.shape)\n"
      ],
      "metadata": {
        "colab": {
          "base_uri": "https://localhost:8080/"
        },
        "id": "9pdxKsjWE6A_",
        "outputId": "2b19aa70-8040-4f0d-cd98-2d4158128bad"
      },
      "execution_count": null,
      "outputs": [
        {
          "output_type": "stream",
          "name": "stdout",
          "text": [
            "a_next[4] =  [ 0.59584544  0.18141802  0.61311866  0.99808218  0.85016201  0.99980978\n",
            " -0.18887155  0.99815551  0.6531151   0.82872037]\n",
            "a_next.shape =  (5, 10)\n",
            "yt_pred[1] = [0.9888161  0.01682021 0.21140899 0.36817467 0.98988387 0.88945212\n",
            " 0.36920224 0.9966312  0.9982559  0.17746526]\n",
            "yt_pred.shape =  (2, 10)\n"
          ]
        }
      ]
    },
    {
      "cell_type": "code",
      "source": [
        "# RNN Forward pass: Basic RNN. The input sequence  𝑥=(𝑥⟨1⟩,𝑥⟨2⟩,...,𝑥⟨𝑇𝑥⟩)  is carried over  𝑇𝑥  time steps. The network outputs  𝑦=(𝑦⟨1⟩,𝑦⟨2⟩,...,𝑦⟨𝑇𝑥⟩) ."
      ],
      "metadata": {
        "id": "ND8Vz0qIHTS1"
      },
      "execution_count": null,
      "outputs": []
    },
    {
      "cell_type": "code",
      "source": [
        "\n",
        "def rnn_forward(x, a0, parameters):\n",
        "    \"\"\"\n",
        "    Implement the forward propagation of the recurrent neural network\n",
        "    Input Data (x):\n",
        "        Dimensions: (n_x, m, T_x)\n",
        "        n_x: Number of features or input dimensions.\n",
        "        m: Batch size, representing the number of examples processed simultaneously.\n",
        "        T_x: Number of time steps in the sequence.\n",
        "        Explanation: Each column of x represents an example in the batch, and the data is organized over time steps.\n",
        "        Hidden State (a):\n",
        "        Dimensions: (n_a, m, T_x)\n",
        "        n_a: Number of hidden units in the RNN layer.\n",
        "        m: Batch size.\n",
        "        T_x: Number of time steps.\n",
        "        Explanation: The tensor a stores the hidden states at each time step for each example in the batch.\n",
        "        Weight Matrix (Wya):\n",
        "        Dimensions: (n_y, n_a)\n",
        "        n_y: Number of output units (e.g., classes in classification).\n",
        "        n_a: Number of hidden units in the RNN layer.\n",
        "        Explanation: Wya is the weight matrix connecting the hidden state to the output. It transforms the hidden state into the space of the output.\n",
        "        Output (y_pred):\n",
        "        Dimensions: (n_y, m, T_x)\n",
        "        n_y: Number of output units.\n",
        "        m: Batch size.\n",
        "        T_x: Number of time steps.\n",
        "Explanation: y_pred contains the predicted outputs for each time step and example in the batch.\n",
        "    Arguments:\n",
        "    x -- Input data for every time-step, of shape (n_x, m, T_x).\n",
        "      # x: Input data of shape (n_x, m, T_x) where n_x is the number of features, m is the batch size, and T_x is the number of time steps.\n",
        "      # parameters: Dictionary containing model parameters including Wya.\n",
        "    a0 -- Initial hidden state, of shape (n_a, m)\n",
        "    parameters -- python dictionary containing:\n",
        "                        Waa -- Weight matrix multiplying the hidden state, numpy array of shape (n_a, n_a)\n",
        "                        Wax -- Weight matrix multiplying the input, numpy array of shape (n_a, n_x)\n",
        "                        Wya -- Weight matrix relating the hidden-state to the output, numpy array of shape (n_y, n_a)\n",
        "                        ba --  Bias numpy array of shape (n_a, 1)\n",
        "                        by -- Bias relating the hidden-state to the output, numpy array of shape (n_y, 1)\n",
        "\n",
        "    Returns:\n",
        "    a -- Hidden states for every time-step, numpy array of shape (n_a, m, T_x)\n",
        "    y_pred -- Predictions for every time-step, numpy array of shape (n_y, m, T_x)\n",
        "    caches -- tuple of values needed for the backward pass, contains (list of caches, x)\n",
        "    \"\"\"\n",
        "\n",
        "    # Initialize \"caches\" which will contain the list of all caches\n",
        "    caches = []\n",
        "\n",
        "    # Retrieve dimensions from shapes of x and Wy\n",
        "    n_x, m, T_x = x.shape\n",
        "    n_y, n_a = parameters[\"Wya\"].shape\n",
        "\n",
        "    a = np.zeros((n_a, m, T_x))\n",
        "    y_pred = np.zeros((n_y, m, T_x))\n",
        "\n",
        "    a_next = a0\n",
        "\n",
        "    for t in range(T_x):\n",
        "      a_next, yt_pred, cache = rnn_cell_forward(x[:,:,t], a_next, parameters)\n",
        "      a[:,:,t] = a_next\n",
        "      y_pred[:,:,t] = yt_pred\n",
        "      caches.append(cache)\n",
        "\n",
        "    caches = (caches, x)\n",
        "\n",
        "    return a, y_pred, caches\n",
        "\n",
        "\n"
      ],
      "metadata": {
        "id": "fIwWApn6Hm7m"
      },
      "execution_count": null,
      "outputs": []
    },
    {
      "cell_type": "code",
      "source": [
        "np.random.seed(1)\n",
        "x = np.random.randn(3,10,4)\n",
        "a0 = np.random.randn(5,10)\n",
        "Waa = np.random.randn(5,5)\n",
        "Wax = np.random.randn(5,3)\n",
        "Wya = np.random.randn(2,5)\n",
        "ba = np.random.randn(5,1)\n",
        "by = np.random.randn(2,1)\n",
        "parameters = {\"Waa\": Waa, \"Wax\": Wax, \"Wya\": Wya, \"ba\": ba, \"by\": by}\n",
        "\n",
        "a, y_pred, caches = rnn_forward(x, a0, parameters)\n",
        "print(\"a[4][1] = \", a[4][1])\n",
        "print(\"a.shape = \", a.shape)\n",
        "print(\"y_pred[1][3] =\", y_pred[1][3])\n",
        "print(\"y_pred.shape = \", y_pred.shape)\n",
        "print(\"caches[1][1][3] =\", caches[1][1][3])\n",
        "print(\"len(caches) = \", len(caches))"
      ],
      "metadata": {
        "colab": {
          "base_uri": "https://localhost:8080/"
        },
        "id": "Oik5j_j_LNoV",
        "outputId": "fc3d4a59-d7a9-479e-e20f-ed5e485ca6dc"
      },
      "execution_count": null,
      "outputs": [
        {
          "output_type": "stream",
          "name": "stdout",
          "text": [
            "a[4][1] =  [-0.99999375  0.77911235 -0.99861469 -0.99833267]\n",
            "a.shape =  (5, 10, 4)\n",
            "y_pred[1][3] = [0.79560373 0.86224861 0.11118257 0.81515947]\n",
            "y_pred.shape =  (2, 10, 4)\n",
            "caches[1][1][3] = [-1.1425182  -0.34934272 -0.20889423  0.58662319]\n",
            "len(caches) =  2\n"
          ]
        }
      ]
    },
    {
      "cell_type": "markdown",
      "source": [
        "This will work well enough for some applications, but it suffers from vanishing gradient problems. So it works best when each output  𝑦⟨𝑡⟩  can be estimated using mainly \"local\" context (meaning information from inputs  𝑥⟨𝑡′⟩  where  𝑡′  is not too far from  𝑡 ).\n",
        "In the next part, I will build a more complex LSTM model, which is better at addressing vanishing gradients. The LSTM will be better able to remember a piece of information and keep it saved for many timesteps."
      ],
      "metadata": {
        "id": "OmPK6Y2GLkHZ"
      }
    },
    {
      "cell_type": "code",
      "source": [
        "# LSTM - one time step\n",
        "\n",
        "def lstm_cell_forward(xt, a_prev, c_prev, parameters):\n",
        "    \"\"\"\n",
        "    Implement a single forward step of the LSTM-cell\n",
        "\n",
        "    Arguments:\n",
        "    xt -- your input data at timestep \"t\", numpy array of shape (n_x, m).\n",
        "    a_prev -- Hidden state at timestep \"t-1\", numpy array of shape (n_a, m)\n",
        "    c_prev -- Memory state at timestep \"t-1\", numpy array of shape (n_a, m)\n",
        "    parameters -- python dictionary containing:\n",
        "                        Wf -- Weight matrix of the forget gate, numpy array of shape (n_a, n_a + n_x)\n",
        "                        bf -- Bias of the forget gate, numpy array of shape (n_a, 1)\n",
        "                        Wi -- Weight matrix of the update gate, numpy array of shape (n_a, n_a + n_x)\n",
        "                        bi -- Bias of the update gate, numpy array of shape (n_a, 1)\n",
        "                        Wc -- Weight matrix of the first \"tanh\", numpy array of shape (n_a, n_a + n_x)\n",
        "                        bc -- Bias of the first \"tanh\", numpy array of shape (n_a, 1)\n",
        "                        Wo -- Weight matrix of the output gate, numpy array of shape (n_a, n_a + n_x)\n",
        "                        bo -- Bias of the output gate, numpy array of shape (n_a, 1)\n",
        "                        Wy -- Weight matrix relating the hidden-state to the output, numpy array of shape (n_y, n_a)\n",
        "                        by -- Bias relating the hidden-state to the output, numpy array of shape (n_y, 1)\n",
        "\n",
        "    Returns:\n",
        "    a_next -- next hidden state, of shape (n_a, m)\n",
        "    c_next -- next memory state, of shape (n_a, m)\n",
        "    yt_pred -- prediction at timestep \"t\", numpy array of shape (n_y, m)\n",
        "    cache -- tuple of values needed for the backward pass, contains (a_next, c_next, a_prev, c_prev, xt, parameters)\n",
        "\n",
        "    ft/it/ot stand for the forget/update/output gates, cct stands for the candidate value (c tilda),\n",
        "          c stands for the memory value\n",
        "\n",
        "\n",
        "    Concatenate  𝑎⟨𝑡−1⟩  and  𝑥⟨𝑡⟩  in a single matrix:  𝑐𝑜𝑛𝑐𝑎𝑡=[𝑎⟨𝑡−1⟩𝑥⟨𝑡⟩]\n",
        "    Compute all the formulas:\n",
        "    Compute the prediction  𝑦⟨𝑡⟩ .\n",
        "\n",
        "    \"\"\"\n",
        "\n",
        "    # Retrieve parameters from \"parameters\"\n",
        "    Wf = parameters[\"Wf\"]\n",
        "    bf = parameters[\"bf\"]\n",
        "    Wi = parameters[\"Wi\"]\n",
        "    bi = parameters[\"bi\"]\n",
        "    Wc = parameters[\"Wc\"]\n",
        "    bc = parameters[\"bc\"]\n",
        "    Wo = parameters[\"Wo\"]\n",
        "    bo = parameters[\"bo\"]\n",
        "    Wy = parameters[\"Wy\"]\n",
        "    by = parameters[\"by\"]\n",
        "\n",
        "    # Retrieve dimensions from shapes of xt and Wy\n",
        "    n_x, m = xt.shape\n",
        "    n_y, n_a = Wy.shape\n",
        "\n",
        "    # Concatenate a_prev and xt\n",
        "    # [𝑎⟨𝑡−1⟩,𝑥⟨𝑡⟩]\n",
        "    concat = np.zeros((n_a + n_x, m))\n",
        "    concat[: n_a, :] = a_prev\n",
        "    concat[n_a :, :] = xt\n",
        "\n",
        "    # Compute values for ft, it, cct, c_next, ot, a_next using the formulas\n",
        "\n",
        "    # Γ⟨𝑡⟩𝑓 = 𝜎(𝑊𝑓[𝑎⟨𝑡−1⟩,𝑥⟨𝑡⟩]+𝑏𝑓)\n",
        "    ft = sigmoid(np.dot(Wf, concat) + bf) #forget gate\n",
        "\n",
        "    # Γ⟨𝑡⟩𝑢 = 𝜎(𝑊𝑢[𝑎⟨𝑡−1⟩,𝑥{𝑡}]+𝑏𝑢)\n",
        "    it = sigmoid(np.dot(Wi, concat) + bi) #update gate\n",
        "\n",
        "    # 𝑐̃⟨𝑡⟩ = tanh(𝑊𝑐[𝑎⟨𝑡−1⟩,𝑥⟨𝑡⟩]+𝑏𝑐)\n",
        "    cct = np.tanh(np.dot(Wc, concat) + bc) # candidate memory value\n",
        "\n",
        "    # 𝑐⟨𝑡⟩ = Γ⟨𝑡⟩𝑓 ∗ 𝑐⟨𝑡−1⟩ + Γ⟨𝑡⟩𝑢 ∗ 𝑐̃⟨𝑡⟩\n",
        "    c_next = ft * c_prev + it * cct # memory cell\n",
        "\n",
        "    # Γ⟨𝑡⟩𝑜 = 𝜎(𝑊𝑜[𝑎⟨𝑡−1⟩,𝑥⟨𝑡⟩]+𝑏𝑜)\n",
        "    ot = sigmoid(np.dot(Wo, concat) + bo) #output gate\n",
        "\n",
        "    # 𝑎⟨𝑡⟩ = Γ⟨𝑡⟩𝑜 ∗ tanh(𝑐⟨𝑡⟩)\n",
        "    a_next = ot * np.tanh(c_next) # a<t>\n",
        "\n",
        "    # Compute prediction of the LSTM cell\n",
        "    yt_pred = softmax(np.dot(Wy, a_next) + by)\n",
        "\n",
        "    # store values needed for backward propagation in cache\n",
        "    cache = (a_next, c_next, a_prev, c_prev, ft, it, cct, ot, xt, parameters)\n",
        "\n",
        "    return a_next, c_next, yt_pred, cache\n",
        "\n",
        "\n"
      ],
      "metadata": {
        "id": "8zH790RrOXb-"
      },
      "execution_count": 18,
      "outputs": []
    },
    {
      "cell_type": "code",
      "source": [
        "np.random.seed(1)\n",
        "xt = np.random.randn(3,10)\n",
        "a_prev = np.random.randn(5,10)\n",
        "c_prev = np.random.randn(5,10)\n",
        "Wf = np.random.randn(5, 5+3)\n",
        "bf = np.random.randn(5,1)\n",
        "Wi = np.random.randn(5, 5+3)\n",
        "bi = np.random.randn(5,1)\n",
        "Wo = np.random.randn(5, 5+3)\n",
        "bo = np.random.randn(5,1)\n",
        "Wc = np.random.randn(5, 5+3)\n",
        "bc = np.random.randn(5,1)\n",
        "Wy = np.random.randn(2,5)\n",
        "by = np.random.randn(2,1)\n",
        "\n",
        "parameters = {\"Wf\": Wf, \"Wi\": Wi, \"Wo\": Wo, \"Wc\": Wc, \"Wy\": Wy, \"bf\": bf, \"bi\": bi, \"bo\": bo, \"bc\": bc, \"by\": by}\n",
        "\n",
        "a_next, c_next, yt, cache = lstm_cell_forward(xt, a_prev, c_prev, parameters)\n",
        "print(\"a_next[4] = \", a_next[4])\n",
        "print(\"a_next.shape = \", c_next.shape)\n",
        "print(\"c_next[2] = \", c_next[2])\n",
        "print(\"c_next.shape = \", c_next.shape)\n",
        "print(\"yt[1] =\", yt[1])\n",
        "print(\"yt.shape = \", yt.shape)\n",
        "print(\"cache[1][3] =\", cache[1][3])\n",
        "print(\"len(cache) = \", len(cache))"
      ],
      "metadata": {
        "colab": {
          "base_uri": "https://localhost:8080/"
        },
        "id": "KDxnK3i3Q9Pp",
        "outputId": "bf5c8d24-07e4-45f8-b58e-067571501d33"
      },
      "execution_count": 20,
      "outputs": [
        {
          "output_type": "stream",
          "name": "stdout",
          "text": [
            "a_next[4] =  [-0.66408471  0.0036921   0.02088357  0.22834167 -0.85575339  0.00138482\n",
            "  0.76566531  0.34631421 -0.00215674  0.43827275]\n",
            "a_next.shape =  (5, 10)\n",
            "c_next[2] =  [ 0.63267805  1.00570849  0.35504474  0.20690913 -1.64566718  0.11832942\n",
            "  0.76449811 -0.0981561  -0.74348425 -0.26810932]\n",
            "c_next.shape =  (5, 10)\n",
            "yt[1] = [0.79913913 0.15986619 0.22412122 0.15606108 0.97057211 0.31146381\n",
            " 0.00943007 0.12666353 0.39380172 0.07828381]\n",
            "yt.shape =  (2, 10)\n",
            "cache[1][3] = [-0.16263996  1.03729328  0.72938082 -0.54101719  0.02752074 -0.30821874\n",
            "  0.07651101 -1.03752894  1.41219977 -0.37647422]\n",
            "len(cache) =  10\n"
          ]
        }
      ]
    },
    {
      "cell_type": "code",
      "source": [
        "sentence = \"ChatGPT is a powerful a language model\"\n",
        "\n",
        "# Tokenize the sentence\n",
        "words = sentence.split()\n",
        "\n",
        "# Number of time steps (T_x) is the number of words in the sentence\n",
        "T_x = len(words)\n",
        "\n",
        "# Suppose you decide to represent each word using a one-hot encoding\n",
        "# In this example, we have a vocabulary of unique words\n",
        "vocab = set(words)\n",
        "\n",
        "# Number of input features (n_x) is the size of the one-hot encoding for each word\n",
        "n_x = len(vocab)\n",
        "print(T_x, n_x)\n"
      ],
      "metadata": {
        "colab": {
          "base_uri": "https://localhost:8080/"
        },
        "id": "l500U89RRCcA",
        "outputId": "5fbd6092-4f38-4a75-e34b-0129e90db52d"
      },
      "execution_count": 22,
      "outputs": [
        {
          "output_type": "stream",
          "name": "stdout",
          "text": [
            "7 6\n"
          ]
        }
      ]
    },
    {
      "cell_type": "code",
      "source": [
        "# lstm_forward() to run an LSTM over  𝑇𝑥  time-steps.\n",
        "# Note:  𝑐⟨0⟩  is initialized with zeros.\n",
        "\n",
        "def lstm_forward(x, a0, parameters):\n",
        "    caches = []\n",
        "\n",
        "    # Retrieve dimensions from shapes of x and Wy\n",
        "    n_x, m, T_x = x.shape\n",
        "    n_y, n_a = parameters[\"Wy\"].shape\n",
        "\n",
        "    # initialize \"a\", \"c\" and \"y\" with zeros\n",
        "    a = np.zeros((n_a, m, T_x))\n",
        "    c = np.zeros((n_a, m, T_x))\n",
        "    y = np.zeros((n_y, m, T_x))\n",
        "\n",
        "    # Initialize a_next and c_next\n",
        "    a_next = a0\n",
        "    c_next = np.zeros(a_next.shape)\n",
        "\n",
        "    # loop over all time-steps\n",
        "    for t in range(T_x):\n",
        "        # Update next hidden state, next memory state, compute the prediction, get the cache\n",
        "        a_next, c_next, yt, cache = lstm_cell_forward(x[:, :, t], a_next, c_next, parameters)\n",
        "        # Save the value of the new \"next\" hidden state in a\n",
        "        a[:,:,t] = a_next\n",
        "        # Save the value of the prediction in y\n",
        "        y[:,:,t] = yt\n",
        "        # Save the value of the next cell state\n",
        "        c[:,:,t]  = c_next\n",
        "        # Append the cache into caches\n",
        "        caches.append(cache)\n",
        "\n",
        "    # store values needed for backward propagation in cache\n",
        "    caches = (caches, x)\n",
        "\n",
        "    return a, y, c, caches\n"
      ],
      "metadata": {
        "id": "uveOFfOPSktL"
      },
      "execution_count": 23,
      "outputs": []
    },
    {
      "cell_type": "code",
      "source": [
        "np.random.seed(1)\n",
        "x = np.random.randn(3,10,7)\n",
        "a0 = np.random.randn(5,10)\n",
        "Wf = np.random.randn(5, 5+3)\n",
        "bf = np.random.randn(5,1)\n",
        "Wi = np.random.randn(5, 5+3)\n",
        "bi = np.random.randn(5,1)\n",
        "Wo = np.random.randn(5, 5+3)\n",
        "bo = np.random.randn(5,1)\n",
        "Wc = np.random.randn(5, 5+3)\n",
        "bc = np.random.randn(5,1)\n",
        "Wy = np.random.randn(2,5)\n",
        "by = np.random.randn(2,1)\n",
        "\n",
        "parameters = {\"Wf\": Wf, \"Wi\": Wi, \"Wo\": Wo, \"Wc\": Wc, \"Wy\": Wy, \"bf\": bf, \"bi\": bi, \"bo\": bo, \"bc\": bc, \"by\": by}\n",
        "\n",
        "a, y, c, caches = lstm_forward(x, a0, parameters)\n",
        "print(\"a[4][3][6] = \", a[4][3][6])\n",
        "print(\"a.shape = \", a.shape)\n",
        "print(\"y[1][4][3] =\", y[1][4][3])\n",
        "print(\"y.shape = \", y.shape)\n",
        "print(\"caches[1][1[1]] =\", caches[1][1][1])\n",
        "print(\"c[1][2][1]\", c[1][2][1])\n",
        "print(\"len(caches) = \", len(caches))"
      ],
      "metadata": {
        "colab": {
          "base_uri": "https://localhost:8080/"
        },
        "id": "ewPB6zBOTJxf",
        "outputId": "6f809422-c9d4-413d-c718-e64c51863946"
      },
      "execution_count": 24,
      "outputs": [
        {
          "output_type": "stream",
          "name": "stdout",
          "text": [
            "a[4][3][6] =  0.1721177675329167\n",
            "a.shape =  (5, 10, 7)\n",
            "y[1][4][3] = 0.9508734618501101\n",
            "y.shape =  (2, 10, 7)\n",
            "caches[1][1[1]] = [ 0.82797464  0.23009474  0.76201118 -0.22232814 -0.20075807  0.18656139\n",
            "  0.41005165]\n",
            "c[1][2][1] -0.8555449167181983\n",
            "len(caches) =  2\n"
          ]
        }
      ]
    }
  ],
  "metadata": {
    "colab": {
      "provenance": [],
      "authorship_tag": "ABX9TyNcbMyBjO7Gv2fS58+MwNhq",
      "include_colab_link": true
    },
    "kernelspec": {
      "display_name": "Python 3",
      "name": "python3"
    },
    "language_info": {
      "name": "python"
    }
  },
  "nbformat": 4,
  "nbformat_minor": 0
}